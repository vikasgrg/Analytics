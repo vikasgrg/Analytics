{
  "cells": [
    {
      "cell_type": "markdown",
      "metadata": {
        "id": "view-in-github",
        "colab_type": "text"
      },
      "source": [
        "<a href=\"https://colab.research.google.com/github/vikasgrg/Analytics/blob/main/RE.ipynb\" target=\"_parent\"><img src=\"https://colab.research.google.com/assets/colab-badge.svg\" alt=\"Open In Colab\"/></a>"
      ]
    },
    {
      "cell_type": "code",
      "execution_count": null,
      "id": "f4ff1b13-1fd5-4d14-99d3-2fbe6f1bb787",
      "metadata": {
        "colab": {
          "base_uri": "https://localhost:8080/"
        },
        "id": "f4ff1b13-1fd5-4d14-99d3-2fbe6f1bb787",
        "outputId": "eaaf50f1-fbb6-4a6d-dfb0-dd11a7e8e306"
      },
      "outputs": [
        {
          "output_type": "stream",
          "name": "stdout",
          "text": [
            "['ai', 'ai']\n"
          ]
        }
      ],
      "source": [
        "import re\n",
        "txt = \"The rain in Spain\"\n",
        "x = re.findall(\"ai\", txt)\n",
        "print(x)"
      ]
    },
    {
      "cell_type": "code",
      "execution_count": null,
      "id": "8b3909bd-22ee-4d8b-b317-acb83f3466db",
      "metadata": {
        "colab": {
          "base_uri": "https://localhost:8080/"
        },
        "id": "8b3909bd-22ee-4d8b-b317-acb83f3466db",
        "outputId": "2a101b11-10a3-4208-80e7-4e116a49f31e"
      },
      "outputs": [
        {
          "output_type": "stream",
          "name": "stdout",
          "text": [
            "[]\n"
          ]
        }
      ],
      "source": [
        "txt = \"The rain in Spain\"\n",
        "x = re.findall(\"Portugal\", txt)\n",
        "print(x)"
      ]
    },
    {
      "cell_type": "code",
      "execution_count": null,
      "id": "221cd89f-1c60-4fd6-8e17-40531223fac2",
      "metadata": {
        "id": "221cd89f-1c60-4fd6-8e17-40531223fac2",
        "outputId": "2abc3562-97f7-498c-f5ef-3318e17401d0",
        "colab": {
          "base_uri": "https://localhost:8080/"
        }
      },
      "outputs": [
        {
          "output_type": "stream",
          "name": "stderr",
          "text": [
            "<>:3: SyntaxWarning: invalid escape sequence '\\s'\n",
            "<>:3: SyntaxWarning: invalid escape sequence '\\s'\n",
            "/tmp/ipython-input-1437771358.py:3: SyntaxWarning: invalid escape sequence '\\s'\n",
            "  x = re.search(\"\\s\", txt)\n"
          ]
        },
        {
          "output_type": "execute_result",
          "data": {
            "text/plain": [
              "<re.Match object; span=(3, 4), match=' '>"
            ]
          },
          "metadata": {},
          "execution_count": 3
        }
      ],
      "source": [
        "#Search for the first white-space character in the string:\n",
        "txt = \"The rain in Spain\"\n",
        "x = re.search(\"\\s\", txt)\n",
        "x"
      ]
    },
    {
      "cell_type": "code",
      "execution_count": null,
      "id": "6364320d-5cfa-4bc9-94ba-968c1579ef2b",
      "metadata": {
        "id": "6364320d-5cfa-4bc9-94ba-968c1579ef2b",
        "outputId": "9b52b808-77f3-494a-d841-6f86e31cdd01",
        "colab": {
          "base_uri": "https://localhost:8080/"
        }
      },
      "outputs": [
        {
          "output_type": "stream",
          "name": "stdout",
          "text": [
            "['h', 'e', 'a', 'i', 'i', 'a', 'i']\n"
          ]
        }
      ],
      "source": [
        "import re\n",
        "#Find all lower case characters alphabetically between \"a\" and \"m\":\n",
        "txt = \"The rain in Spain\"\n",
        "x = re.findall(\"[a-m]\", txt)\n",
        "print(x)"
      ]
    },
    {
      "cell_type": "code",
      "execution_count": null,
      "id": "56d1e0f3-62d8-4c26-a520-650efbb6e99d",
      "metadata": {
        "id": "56d1e0f3-62d8-4c26-a520-650efbb6e99d",
        "outputId": "649c0bf2-b078-4bf7-c138-205ee60aadb4",
        "colab": {
          "base_uri": "https://localhost:8080/"
        }
      },
      "outputs": [
        {
          "output_type": "stream",
          "name": "stdout",
          "text": [
            "['5', '9']\n"
          ]
        },
        {
          "output_type": "stream",
          "name": "stderr",
          "text": [
            "<>:2: SyntaxWarning: invalid escape sequence '\\d'\n",
            "<>:2: SyntaxWarning: invalid escape sequence '\\d'\n",
            "/tmp/ipython-input-1252853757.py:2: SyntaxWarning: invalid escape sequence '\\d'\n",
            "  x = re.findall(\"\\d\", txt)\n"
          ]
        }
      ],
      "source": [
        "txt = \"That will be 59 dollars\"#Check if the string contains any digits (numbers from 0-9):\n",
        "x = re.findall(\"\\d\", txt)\n",
        "print(x)"
      ]
    },
    {
      "cell_type": "code",
      "execution_count": null,
      "id": "39b8afa6-f243-4248-9429-1483bffcf275",
      "metadata": {
        "colab": {
          "base_uri": "https://localhost:8080/"
        },
        "id": "39b8afa6-f243-4248-9429-1483bffcf275",
        "outputId": "eca855ac-63c8-4c57-aaac-82ac7cd0d561"
      },
      "outputs": [
        {
          "output_type": "stream",
          "name": "stdout",
          "text": [
            "['hello']\n"
          ]
        }
      ],
      "source": [
        "txt = \"hello planet\"\n",
        "#Search for a sequence that starts with \"he\", followed by two (any) characters, and an \"o\":\n",
        "x = re.findall(\"he..o\", txt)\n",
        "print(x)"
      ]
    },
    {
      "cell_type": "code",
      "execution_count": null,
      "id": "2124889f-1701-4c8c-9725-793e90421b1a",
      "metadata": {
        "id": "2124889f-1701-4c8c-9725-793e90421b1a",
        "outputId": "2e9d0c60-0b22-41b7-bed9-8d4107586638",
        "colab": {
          "base_uri": "https://localhost:8080/"
        }
      },
      "outputs": [
        {
          "output_type": "stream",
          "name": "stdout",
          "text": [
            "Yes, the string starts with 'hello'\n"
          ]
        }
      ],
      "source": [
        "txt = \"hello planet\"\n",
        "#Check if the string starts with 'hello':\n",
        "x = re.findall(\"^hello\", txt)\n",
        "if x:\n",
        "  print(\"Yes, the string starts with 'hello'\")\n",
        "else:\n",
        "  print(\"No match\")"
      ]
    },
    {
      "cell_type": "code",
      "execution_count": null,
      "id": "a7fa259f-2dae-4b19-b19f-aaa069cb4be6",
      "metadata": {
        "id": "a7fa259f-2dae-4b19-b19f-aaa069cb4be6",
        "outputId": "e7ccd49f-546a-47aa-c7ac-5c2b7205a061"
      },
      "outputs": [
        {
          "name": "stdout",
          "output_type": "stream",
          "text": [
            "Yes, the string ends with 'planet'\n"
          ]
        }
      ],
      "source": [
        "\n",
        "txt = \"hello planet\"\n",
        "\n",
        "#Check if the string ends with 'planet':\n",
        "x = re.findall(\"planet$\", txt)\n",
        "if x:\n",
        "  print(\"Yes, the string ends with 'planet'\")\n",
        "else:\n",
        "  print(\"No match\")"
      ]
    },
    {
      "cell_type": "code",
      "execution_count": null,
      "id": "3069c41c-3ad3-4d80-b37b-8ce7596e6c8c",
      "metadata": {
        "colab": {
          "base_uri": "https://localhost:8080/"
        },
        "id": "3069c41c-3ad3-4d80-b37b-8ce7596e6c8c",
        "outputId": "9d32035c-a7c2-451e-89ca-ba307943f90e"
      },
      "outputs": [
        {
          "output_type": "stream",
          "name": "stdout",
          "text": [
            "['heo']\n"
          ]
        }
      ],
      "source": [
        "txt = \"heo planet\"\n",
        "#Search for a sequence that starts with \"he\", followed by 0 or more  (any) characters, and an \"o\":\n",
        "x = re.findall(\"he.*o\", txt)\n",
        "print(x)"
      ]
    },
    {
      "cell_type": "code",
      "execution_count": null,
      "id": "fb3aa3f9-58b4-4275-8322-ce7ac85866ca",
      "metadata": {
        "colab": {
          "base_uri": "https://localhost:8080/"
        },
        "id": "fb3aa3f9-58b4-4275-8322-ce7ac85866ca",
        "outputId": "e59fcae6-917d-479a-e74a-4435ac560281"
      },
      "outputs": [
        {
          "output_type": "stream",
          "name": "stdout",
          "text": [
            "[]\n"
          ]
        }
      ],
      "source": [
        "txt = \"heo planet\"\n",
        "#Search for a sequence that starts with \"he\", followed by 1 or more  (any) characters, and an \"o\":\n",
        "x = re.findall(\"he.+o\", txt)\n",
        "print(x)"
      ]
    },
    {
      "cell_type": "code",
      "execution_count": null,
      "id": "10dddf7f-4a2b-487c-9b2d-b0ed4e0300c8",
      "metadata": {
        "colab": {
          "base_uri": "https://localhost:8080/"
        },
        "id": "10dddf7f-4a2b-487c-9b2d-b0ed4e0300c8",
        "outputId": "f123ee03-a9d8-4e33-8284-29ceac461b52"
      },
      "outputs": [
        {
          "output_type": "stream",
          "name": "stdout",
          "text": [
            "['helo']\n"
          ]
        }
      ],
      "source": [
        "#Search for a sequence that starts with \"he\", followed by 0 or 1  (any) character, and an \"o\":\n",
        "import re\n",
        "txt = \"helo planet\"\n",
        "x = re.findall(\"he.?o\", txt)\n",
        "print(x)\n",
        "\n",
        "#This time we got no match, because there were not zero, not one, but two characters between \"he\" and the \"o\"\n"
      ]
    },
    {
      "cell_type": "code",
      "execution_count": null,
      "id": "86c2285b-4c5b-42d1-91db-626e84fcdcd3",
      "metadata": {
        "colab": {
          "base_uri": "https://localhost:8080/"
        },
        "id": "86c2285b-4c5b-42d1-91db-626e84fcdcd3",
        "outputId": "ba7d2034-51b4-4c0e-a592-4e23235798fc"
      },
      "outputs": [
        {
          "output_type": "stream",
          "name": "stdout",
          "text": [
            "['hello']\n"
          ]
        }
      ],
      "source": [
        "txt= \"hellko planet\"\n",
        "#Search for a sequence that starts with \"he\", followed excactly 2 (any) characters, and an \"o\":\n",
        "\n",
        "x = re.findall(\"he.{2}o\", txt)\n",
        "\n",
        "print(x)\n"
      ]
    },
    {
      "cell_type": "code",
      "execution_count": null,
      "id": "35037132-9a77-4075-9ab0-3a31b2e68bef",
      "metadata": {
        "id": "35037132-9a77-4075-9ab0-3a31b2e68bef",
        "outputId": "49b8ec77-de19-439c-a4ff-d0a9ebcfd083"
      },
      "outputs": [
        {
          "name": "stdout",
          "output_type": "stream",
          "text": [
            "['falls']\n",
            "Yes, there is at least one match!\n"
          ]
        }
      ],
      "source": [
        "txt = \"The rain in Spain falls mainly in the plain!\"\n",
        "\n",
        "#Check if the string contains either \"falls\" or \"stays\":\n",
        "\n",
        "x = re.findall(\"falls|stays\", txt)\n",
        "\n",
        "print(x)\n",
        "\n",
        "if x:\n",
        "  print(\"Yes, there is at least one match!\")\n",
        "else:\n",
        "  print(\"No match\")"
      ]
    },
    {
      "cell_type": "code",
      "execution_count": null,
      "id": "566e4826-69b8-45e1-8ffc-df1f24be45e3",
      "metadata": {
        "colab": {
          "base_uri": "https://localhost:8080/"
        },
        "id": "566e4826-69b8-45e1-8ffc-df1f24be45e3",
        "outputId": "2abae057-63e1-40a1-fa0b-01d65e9450c6"
      },
      "outputs": [
        {
          "output_type": "stream",
          "name": "stdout",
          "text": [
            "['The']\n",
            "Yes, there is a match!\n"
          ]
        }
      ],
      "source": [
        "#Special Sequences\n",
        "#A special sequence is a \\ followed by one of the characters in the list below, and has a special meaning:\n",
        "\n",
        "txt = \"The rain in Spain\"\n",
        "\n",
        "#Check if the string starts with \"The\":\n",
        "\n",
        "x = re.findall(\"\\AThe\", txt)\n",
        "\n",
        "print(x)\n",
        "\n",
        "if x:\n",
        "  print(\"Yes, there is a match!\")\n",
        "else:\n",
        "  print(\"No match\")"
      ]
    },
    {
      "cell_type": "code",
      "execution_count": null,
      "id": "35329f6b-b83c-4f96-ab7c-aedefed13054",
      "metadata": {
        "colab": {
          "base_uri": "https://localhost:8080/"
        },
        "id": "35329f6b-b83c-4f96-ab7c-aedefed13054",
        "outputId": "ab730f04-da45-49c8-b582-68cb77203270"
      },
      "outputs": [
        {
          "output_type": "stream",
          "name": "stdout",
          "text": [
            "[]\n",
            "No match\n"
          ]
        }
      ],
      "source": [
        "#Check if \"ain\" is present at the beginning of a WORD:\n",
        "txt = \"ain The ainpp in ain\"\n",
        "x = re.findall(\"\\bain\", txt)\n",
        "\n",
        "print(x)\n",
        "\n",
        "if x:\n",
        "  print(\"Yes, there is at least one match!\")\n",
        "else:\n",
        "  print(\"No match\")"
      ]
    },
    {
      "cell_type": "code",
      "execution_count": null,
      "id": "8cbc6094-040c-4c62-95bb-237289165838",
      "metadata": {
        "colab": {
          "base_uri": "https://localhost:8080/"
        },
        "id": "8cbc6094-040c-4c62-95bb-237289165838",
        "outputId": "cf57fce7-7e70-4ac4-a0b3-2654d60b8483"
      },
      "outputs": [
        {
          "output_type": "stream",
          "name": "stdout",
          "text": [
            "['ain', 'ain']\n",
            "Yes, there is at least one match!\n"
          ]
        }
      ],
      "source": [
        "#Check if \"ain\" is present at the end of a WORD:\n",
        "txt = \"The rain in spain\"\n",
        "x = re.findall(r\"ain\\b\", txt)\n",
        "\n",
        "print(x)\n",
        "\n",
        "if x:\n",
        "  print(\"Yes, there is at least one match!\")\n",
        "else:\n",
        "  print(\"No match\")\n"
      ]
    },
    {
      "cell_type": "code",
      "execution_count": null,
      "id": "d652b666-be4b-4ae5-826b-1c016e6911cd",
      "metadata": {
        "colab": {
          "base_uri": "https://localhost:8080/"
        },
        "id": "d652b666-be4b-4ae5-826b-1c016e6911cd",
        "outputId": "3fcf2156-6897-4ac7-cd18-73e28142e830"
      },
      "outputs": [
        {
          "output_type": "stream",
          "name": "stdout",
          "text": [
            "['ain', 'ain']\n",
            "Yes, there is at least one match!\n"
          ]
        }
      ],
      "source": [
        "#Check if \"ain\" is present, but NOT at the beginning of a word:\n",
        "txt = \"The rain in spain\"\n",
        "x = re.findall(r\"\\Bain\", txt)\n",
        "\n",
        "print(x)\n",
        "\n",
        "if x:\n",
        "  print(\"Yes, there is at least one match!\")\n",
        "else:\n",
        "  print(\"No match\")"
      ]
    },
    {
      "cell_type": "code",
      "execution_count": null,
      "id": "6dc4ee1d-8c9d-482f-b668-8e3b5d176c26",
      "metadata": {
        "id": "6dc4ee1d-8c9d-482f-b668-8e3b5d176c26",
        "outputId": "5404f4a5-0315-4aca-d5cd-68bcdbe6cf72"
      },
      "outputs": [
        {
          "name": "stdout",
          "output_type": "stream",
          "text": [
            "[]\n",
            "No match\n"
          ]
        }
      ],
      "source": [
        "#Check if \"ain\" is present, but NOT at the end of a word:\n",
        "\n",
        "x = re.findall(r\"ain\\B\", txt)\n",
        "\n",
        "print(x)\n",
        "\n",
        "if x:\n",
        "  print(\"Yes, there is at least one match!\")\n",
        "else:\n",
        "  print(\"No match\")"
      ]
    },
    {
      "cell_type": "code",
      "execution_count": null,
      "id": "9333c090-398e-4459-9b2a-c2d0a616f18b",
      "metadata": {
        "id": "9333c090-398e-4459-9b2a-c2d0a616f18b",
        "outputId": "2c9c5efa-e33f-4d64-a645-7ed5bce40ad7"
      },
      "outputs": [
        {
          "name": "stdout",
          "output_type": "stream",
          "text": [
            "[]\n",
            "No match\n"
          ]
        }
      ],
      "source": [
        "#Check if the string contains any digits (numbers from 0-9):\n",
        "\n",
        "x = re.findall(\"\\d\", txt)\n",
        "\n",
        "print(x)\n",
        "\n",
        "if x:\n",
        "  print(\"Yes, there is at least one match!\")\n",
        "else:\n",
        "  print(\"No match\")"
      ]
    },
    {
      "cell_type": "code",
      "execution_count": null,
      "id": "397675a8-1f11-4b0b-806f-8e00eff98f3a",
      "metadata": {
        "id": "397675a8-1f11-4b0b-806f-8e00eff98f3a",
        "outputId": "b1c1ee10-b2fe-4af5-eb9c-509dc14953c2"
      },
      "outputs": [
        {
          "name": "stdout",
          "output_type": "stream",
          "text": [
            "['T', 'h', 'e', ' ', 'r', 'a', 'i', 'n', ' ', 'i', 'n', ' ', 's', 'p', 'a', 'i', 'n']\n",
            "Yes, there is at least one match!\n"
          ]
        }
      ],
      "source": [
        "\n",
        "#Return a match at every no-digit character:\n",
        "x = re.findall(\"\\D\", txt)\n",
        "\n",
        "print(x)\n",
        "\n",
        "if x:\n",
        "  print(\"Yes, there is at least one match!\")\n",
        "else:\n",
        "  print(\"No match\")"
      ]
    },
    {
      "cell_type": "code",
      "execution_count": null,
      "id": "c5d7eba7-987a-4d6f-a277-5bb3b2b2073a",
      "metadata": {
        "id": "c5d7eba7-987a-4d6f-a277-5bb3b2b2073a",
        "outputId": "ec059ba9-9e5b-46c4-a8e8-a86af1784229"
      },
      "outputs": [
        {
          "name": "stdout",
          "output_type": "stream",
          "text": [
            "[' ', ' ', ' ']\n",
            "Yes, there is at least one match!\n"
          ]
        }
      ],
      "source": [
        "#Return a match at every white-space character:\n",
        "\n",
        "x = re.findall(\"\\s\", txt)\n",
        "\n",
        "print(x)\n",
        "\n",
        "if x:\n",
        "  print(\"Yes, there is at least one match!\")\n",
        "else:\n",
        "  print(\"No match\")"
      ]
    },
    {
      "cell_type": "code",
      "execution_count": null,
      "id": "f893245b-dba6-4b37-a433-6c64182566e7",
      "metadata": {
        "id": "f893245b-dba6-4b37-a433-6c64182566e7",
        "outputId": "b966a461-971d-4e39-efd2-248020b255b8"
      },
      "outputs": [
        {
          "name": "stdout",
          "output_type": "stream",
          "text": [
            "['T', 'h', 'e', 'r', 'a', 'i', 'n', 'i', 'n', 's', 'p', 'a', 'i', 'n']\n",
            "Yes, there is at least one match!\n"
          ]
        }
      ],
      "source": [
        "#Return a match at every NON white-space character:\n",
        "\n",
        "x = re.findall(\"\\S\", txt)\n",
        "\n",
        "print(x)\n",
        "\n",
        "if x:\n",
        "  print(\"Yes, there is at least one match!\")\n",
        "else:\n",
        "  print(\"No match\")"
      ]
    },
    {
      "cell_type": "code",
      "execution_count": null,
      "id": "fd41d904-8caa-45ff-8dfd-fd64e0a0fdd4",
      "metadata": {
        "id": "fd41d904-8caa-45ff-8dfd-fd64e0a0fdd4",
        "outputId": "e54af314-39f8-445d-a6ea-db79104dd09a"
      },
      "outputs": [
        {
          "name": "stdout",
          "output_type": "stream",
          "text": [
            "['T', 'h', 'e', 'r', 'a', 'i', 'n', 'i', 'n', 's', 'p', 'a', 'i', 'n']\n",
            "Yes, there is at least one match!\n"
          ]
        }
      ],
      "source": [
        "\n",
        "#Return a match at every word character (characters from a to Z, digits from 0-9, and the underscore _ character):\n",
        "\n",
        "x = re.findall(\"\\w\", txt)\n",
        "\n",
        "print(x)\n",
        "\n",
        "if x:\n",
        "  print(\"Yes, there is at least one match!\")\n",
        "else:\n",
        "  print(\"No match\")"
      ]
    },
    {
      "cell_type": "code",
      "execution_count": null,
      "id": "8a04e9c9-be68-4bcc-abd1-88e288bba0a0",
      "metadata": {
        "colab": {
          "base_uri": "https://localhost:8080/"
        },
        "id": "8a04e9c9-be68-4bcc-abd1-88e288bba0a0",
        "outputId": "9dda378d-0996-4472-b21c-1dd92cc9fd12"
      },
      "outputs": [
        {
          "output_type": "stream",
          "name": "stdout",
          "text": [
            "[' ', ' ', ' ', ' ', ' ', ' ']\n",
            "Yes, there is at least one match!\n"
          ]
        }
      ],
      "source": [
        "#Return a match at every NON word character (characters NOT between a and Z. Like \"!\", \"?\" white-space etc.):\n",
        "txt=\"I am Nikanksha Jain from Mumbai India\"\n",
        "x = re.findall(\"\\W\", txt)\n",
        "\n",
        "print(x)\n",
        "\n",
        "if x:\n",
        "  print(\"Yes, there is at least one match!\")\n",
        "else:\n",
        "  print(\"No match\")"
      ]
    },
    {
      "cell_type": "code",
      "execution_count": null,
      "id": "4c87c6ef-c8db-4cc0-967a-6470c5888c68",
      "metadata": {
        "id": "4c87c6ef-c8db-4cc0-967a-6470c5888c68",
        "outputId": "4000e956-1a3c-4e29-8ac3-c5e7b2d862cf"
      },
      "outputs": [
        {
          "name": "stdout",
          "output_type": "stream",
          "text": [
            "['spain']\n",
            "Yes, there is a match!\n"
          ]
        }
      ],
      "source": [
        "txt = \"The rain in spain\"\n",
        "#Check if the string ends with \"Spain\":\n",
        "\n",
        "x = re.findall(\"spain\\Z\", txt)\n",
        "\n",
        "print(x)\n",
        "\n",
        "if x:\n",
        "  print(\"Yes, there is a match!\")\n",
        "else:\n",
        "  print(\"No match\")"
      ]
    },
    {
      "cell_type": "code",
      "execution_count": null,
      "id": "ceb11ef5-f170-4098-9a95-ab126b50b706",
      "metadata": {
        "id": "ceb11ef5-f170-4098-9a95-ab126b50b706",
        "outputId": "01512fe3-120a-4f0c-ee11-7ee43dbf68a5"
      },
      "outputs": [
        {
          "name": "stdout",
          "output_type": "stream",
          "text": [
            "['r', 'a', 'n', 'n', 'a', 'n']\n",
            "Yes, there is at least one match!\n"
          ]
        }
      ],
      "source": [
        "#Check if the string has any a, r, or n characters:\n",
        "\n",
        "x = re.findall(\"[arn]\", txt)\n",
        "\n",
        "print(x)\n",
        "\n",
        "if x:\n",
        "  print(\"Yes, there is at least one match!\")\n",
        "else:\n",
        "  print(\"No match\")\n"
      ]
    },
    {
      "cell_type": "code",
      "execution_count": null,
      "id": "db95c259-b8aa-4f51-867c-e0130f909703",
      "metadata": {
        "id": "db95c259-b8aa-4f51-867c-e0130f909703",
        "outputId": "7448b944-9c54-401c-fbdc-d4a970f01dd8"
      },
      "outputs": [
        {
          "name": "stdout",
          "output_type": "stream",
          "text": [
            "['h', 'e', 'a', 'i', 'n', 'i', 'n', 'a', 'i', 'n']\n",
            "Yes, there is at least one match!\n"
          ]
        }
      ],
      "source": [
        "#Check if the string has any characters between a and n:\n",
        "\n",
        "x = re.findall(\"[a-n]\", txt)\n",
        "\n",
        "print(x)\n",
        "\n",
        "if x:\n",
        "  print(\"Yes, there is at least one match!\")\n",
        "else:\n",
        "  print(\"No match\")"
      ]
    },
    {
      "cell_type": "code",
      "execution_count": null,
      "id": "eed64d1d-5a44-4669-8cc5-c67abd57ebce",
      "metadata": {
        "id": "eed64d1d-5a44-4669-8cc5-c67abd57ebce",
        "outputId": "efa24a2b-5baa-43b1-9fa6-be00d4f8c25f"
      },
      "outputs": [
        {
          "name": "stdout",
          "output_type": "stream",
          "text": [
            "['T', 'h', 'e', ' ', 'i', ' ', 'i', ' ', 's', 'p', 'i']\n",
            "Yes, there is at least one match!\n"
          ]
        }
      ],
      "source": [
        "#Check if the string has other characters than a, r, or n:\n",
        "\n",
        "x = re.findall(\"[^arn]\", txt)\n",
        "\n",
        "print(x)\n",
        "\n",
        "if x:\n",
        "  print(\"Yes, there is at least one match!\")\n",
        "else:\n",
        "  print(\"No match\")"
      ]
    },
    {
      "cell_type": "code",
      "execution_count": null,
      "id": "267dfd56-cd11-4e70-a192-d05da2f0d2f3",
      "metadata": {
        "id": "267dfd56-cd11-4e70-a192-d05da2f0d2f3",
        "outputId": "033c2541-9482-4bd5-86fc-027dd92889ff"
      },
      "outputs": [
        {
          "name": "stdout",
          "output_type": "stream",
          "text": [
            "[]\n",
            "No match\n"
          ]
        }
      ],
      "source": [
        "txt = \"The rain in spain 99\"\n",
        "#Check if the string has any 0, 1, 2, or 3 digits:\n",
        "\n",
        "x = re.findall(\"[0123]\", txt)\n",
        "\n",
        "print(x)\n",
        "\n",
        "if x:\n",
        "  print(\"Yes, there is at least one match!\")\n",
        "else:\n",
        "  print(\"No match\")"
      ]
    },
    {
      "cell_type": "code",
      "execution_count": null,
      "id": "e5103d28-f926-4bc7-b313-9d459e6dac77",
      "metadata": {
        "id": "e5103d28-f926-4bc7-b313-9d459e6dac77",
        "outputId": "22527b8d-4752-4d2c-a855-978bae0d96f4"
      },
      "outputs": [
        {
          "name": "stdout",
          "output_type": "stream",
          "text": [
            "['8', '1', '1', '4', '5']\n",
            "Yes, there is at least one match!\n"
          ]
        }
      ],
      "source": [
        "txt = \"8 times before 11:45 AM\"\n",
        "#Check if the string has any digits:\n",
        "\n",
        "x = re.findall(\"[0-9]\", txt)\n",
        "\n",
        "print(x)\n",
        "\n",
        "if x:\n",
        "  print(\"Yes, there is at least one match!\")\n",
        "else:\n",
        "  print(\"No match\")"
      ]
    },
    {
      "cell_type": "code",
      "execution_count": null,
      "id": "fc8c7326-8c62-42b1-a2ec-f4a7e1996157",
      "metadata": {
        "id": "fc8c7326-8c62-42b1-a2ec-f4a7e1996157",
        "outputId": "d9472edf-1038-485c-f4f0-d3872b6f9fd2"
      },
      "outputs": [
        {
          "name": "stdout",
          "output_type": "stream",
          "text": [
            "['11']\n",
            "Yes, there is at least one match!\n"
          ]
        }
      ],
      "source": [
        "txt = \"8 times before 11:65 AM\"\n",
        "\n",
        "#Check if the string has any two-digit numbers, from 00 to 59:\n",
        "\n",
        "x = re.findall(\"[0-5][0-9]\", txt)\n",
        "print(x)\n",
        "if x:\n",
        "  print(\"Yes, there is at least one match!\")\n",
        "else:\n",
        "  print(\"No match\")"
      ]
    },
    {
      "cell_type": "code",
      "execution_count": null,
      "id": "495177c2-fd86-41b5-8bcc-b970bdb601ba",
      "metadata": {
        "id": "495177c2-fd86-41b5-8bcc-b970bdb601ba",
        "outputId": "5eb1feff-788e-4568-ba96-1bacbb34fea9"
      },
      "outputs": [
        {
          "name": "stdout",
          "output_type": "stream",
          "text": [
            "['t', 'i', 'm', 'e', 's', 'b', 'e', 'f', 'o', 'r', 'e', 'A', 'M']\n",
            "Yes, there is at least one match!\n"
          ]
        }
      ],
      "source": [
        "#Check if the string has any characters from a to z lower case, and A to Z upper case:\n",
        "\n",
        "x = re.findall(\"[a-zA-Z]\", txt)\n",
        "print(x)\n",
        "if x:\n",
        "  print(\"Yes, there is at least one match!\")\n",
        "else:\n",
        "  print(\"No match\")"
      ]
    },
    {
      "cell_type": "code",
      "execution_count": null,
      "id": "4c000bd4-54c8-4c8a-9465-f3332a4d7a5e",
      "metadata": {
        "id": "4c000bd4-54c8-4c8a-9465-f3332a4d7a5e",
        "outputId": "9cb32f1d-8c89-4331-e72f-869b3d02f38d"
      },
      "outputs": [
        {
          "name": "stdout",
          "output_type": "stream",
          "text": [
            "['-']\n",
            "Yes, there is at least one match!\n"
          ]
        }
      ],
      "source": [
        "txt = \"8 times before 11:65 AM -\"\n",
        "#Check if the string has any - characters:\n",
        "\n",
        "x = re.findall(\"[-]\", txt)\n",
        "\n",
        "print(x)\n",
        "\n",
        "if x:\n",
        "  print(\"Yes, there is at least one match!\")\n",
        "else:\n",
        "  print(\"No match\")"
      ]
    },
    {
      "cell_type": "code",
      "execution_count": null,
      "id": "7cc9e1ea-4f3d-479c-8cab-3028851bb15b",
      "metadata": {
        "id": "7cc9e1ea-4f3d-479c-8cab-3028851bb15b",
        "outputId": "b8672607-b4a8-49e7-a0df-2c98bcc1ec9b"
      },
      "outputs": [
        {
          "name": "stdout",
          "output_type": "stream",
          "text": [
            "['The', 'rain', 'in', 'Spain']\n"
          ]
        }
      ],
      "source": [
        "#Split at each white-space character:\n",
        "\n",
        "txt = \"The rain in Spain\"\n",
        "x = re.split(\"\\s\", txt)\n",
        "print(x)"
      ]
    },
    {
      "cell_type": "code",
      "execution_count": null,
      "id": "f7b83324-a656-4b75-b94f-15bcd4a7f7a3",
      "metadata": {
        "id": "f7b83324-a656-4b75-b94f-15bcd4a7f7a3",
        "outputId": "c5250d74-3f20-4b3e-a197-be0cbdd68dab"
      },
      "outputs": [
        {
          "name": "stdout",
          "output_type": "stream",
          "text": [
            "['The', 'rain in Spain']\n"
          ]
        }
      ],
      "source": [
        "#Split the string only at the first occurrence:\n",
        "txt = \"The rain in Spain\"\n",
        "x = re.split(\"\\s\", txt, 1)\n",
        "print(x)"
      ]
    },
    {
      "cell_type": "code",
      "execution_count": null,
      "id": "a87175c5-9246-4c55-be90-dd3ab9737ed6",
      "metadata": {
        "id": "a87175c5-9246-4c55-be90-dd3ab9737ed6",
        "outputId": "7a3680c2-0239-4b4b-f420-9bf1117748ae"
      },
      "outputs": [
        {
          "name": "stdout",
          "output_type": "stream",
          "text": [
            "The9rain9in9Spain\n"
          ]
        }
      ],
      "source": [
        "#Replace every white-space character with the number 9:\n",
        "txt = \"The rain in Spain\"\n",
        "x = re.sub(\"\\s\", \"9\", txt)\n",
        "print(x)"
      ]
    },
    {
      "cell_type": "code",
      "execution_count": null,
      "id": "e5f198de-f956-4bf1-80f2-73666b82bb3b",
      "metadata": {
        "id": "e5f198de-f956-4bf1-80f2-73666b82bb3b",
        "outputId": "eeeb7508-483b-4912-b724-de3d2af2e80f"
      },
      "outputs": [
        {
          "name": "stdout",
          "output_type": "stream",
          "text": [
            "The9rain9in Spain\n"
          ]
        }
      ],
      "source": [
        "txt = \"The rain in Spain\"\n",
        "x = re.sub(\"\\s\", \"9\", txt, 2)\n",
        "print(x)"
      ]
    },
    {
      "cell_type": "markdown",
      "source": [
        "'S' in 'Spain12' starts at index 12\n",
        "\n",
        "'Spain12' ends at index 19"
      ],
      "metadata": {
        "id": "xzQMEe_ff6eu"
      },
      "id": "xzQMEe_ff6eu"
    },
    {
      "cell_type": "code",
      "execution_count": null,
      "id": "055f0e65-7442-4ee4-95ef-477c731598f2",
      "metadata": {
        "colab": {
          "base_uri": "https://localhost:8080/"
        },
        "id": "055f0e65-7442-4ee4-95ef-477c731598f2",
        "outputId": "698d8402-3378-4f03-96fe-d3c38c8d308c"
      },
      "outputs": [
        {
          "output_type": "stream",
          "name": "stdout",
          "text": [
            "(12, 19)\n"
          ]
        }
      ],
      "source": [
        "txt = \"The rain in Spain12 7\"\n",
        "x = re.search(r\"\\bS\\w+\", txt)\n",
        "print(x.span())"
      ]
    },
    {
      "cell_type": "code",
      "source": [
        "import re\n",
        "\n",
        "text = \"Please contact us at support@example.com or sales@example.co.uk. For more info, visit our site.\"\n",
        "\n",
        "# Regular expression pattern to match email addresses\n",
        "pattern = r\"[a-zA-Z0-9._%+-]+@[a-zA-Z0-9.-]+\\.[a-zA-Z]{2,}\"\n",
        "\n",
        "# Find all matching patterns\n",
        "emails = re.findall(pattern, text)\n",
        "\n",
        "print(emails)\n"
      ],
      "metadata": {
        "colab": {
          "base_uri": "https://localhost:8080/"
        },
        "id": "mvJdqBoggEnM",
        "outputId": "fb565200-c2db-4a09-9671-4eae6de6b47f"
      },
      "id": "mvJdqBoggEnM",
      "execution_count": null,
      "outputs": [
        {
          "output_type": "stream",
          "name": "stdout",
          "text": [
            "['support@example.com', 'sales@example.co.uk']\n"
          ]
        }
      ]
    },
    {
      "cell_type": "markdown",
      "source": [
        " Explanation of the Regex Pattern:\n",
        "[a-zA-Z0-9._%+-]+: matches the username part (before @)\n",
        "\n",
        "@: the literal @ symbol\n",
        "\n",
        "[a-zA-Z0-9.-]+: matches the domain name\n",
        "\n",
        "\\.: matches the dot (.) before domain extension\n",
        "\n",
        "[a-zA-Z]{2,}: matches the domain extension (like com, org, co.uk)\n"
      ],
      "metadata": {
        "id": "R7E5d_kFg2_T"
      },
      "id": "R7E5d_kFg2_T"
    },
    {
      "cell_type": "code",
      "execution_count": null,
      "id": "f180cdea-3e18-4d50-ad3b-aefe1abf9cf5",
      "metadata": {
        "id": "f180cdea-3e18-4d50-ad3b-aefe1abf9cf5",
        "outputId": "ba89ae68-ad25-4896-cf17-82fa505054f7"
      },
      "outputs": [
        {
          "name": "stdout",
          "output_type": "stream",
          "text": [
            "Square: 400\n",
            "Cube: 125\n",
            "Done!\n"
          ]
        }
      ],
      "source": [
        "import threading\n",
        "\n",
        "\n",
        "def print_cube(num):\n",
        "    # function to print cube of given num\n",
        "    print(\"Cube: {}\" .format(num * num * num))\n",
        "\n",
        "\n",
        "def print_square(num):\n",
        "    # function to print square of given num\n",
        "    print(\"Square: {}\" .format(num * num))\n",
        "\n",
        "\n",
        "\n",
        "# creating thread\n",
        "t1 = threading.Thread(target=print_square, args=(20,))\n",
        "t2 = threading.Thread(target=print_cube, args=(5,))\n",
        "\n",
        "# starting thread 1\n",
        "t1.start()\n",
        "# starting thread 2\n",
        "t2.start()\n",
        "\n",
        "# wait until thread 1 is completely executed\n",
        "t1.join()\n",
        "# wait until thread 2 is completely executed\n",
        "t2.join()\n",
        "# both threads completely executed\n",
        "print(\"Done!\")\n"
      ]
    },
    {
      "cell_type": "code",
      "execution_count": null,
      "id": "23ecbefa-f930-4233-91eb-2e14028b88f0",
      "metadata": {
        "id": "23ecbefa-f930-4233-91eb-2e14028b88f0"
      },
      "outputs": [],
      "source": []
    }
  ],
  "metadata": {
    "kernelspec": {
      "display_name": "Python 3 (ipykernel)",
      "language": "python",
      "name": "python3"
    },
    "language_info": {
      "codemirror_mode": {
        "name": "ipython",
        "version": 3
      },
      "file_extension": ".py",
      "mimetype": "text/x-python",
      "name": "python",
      "nbconvert_exporter": "python",
      "pygments_lexer": "ipython3",
      "version": "3.11.7"
    },
    "colab": {
      "provenance": [],
      "include_colab_link": true
    }
  },
  "nbformat": 4,
  "nbformat_minor": 5
}